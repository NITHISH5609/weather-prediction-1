{
 "cells": [
  {
   "cell_type": "code",
   "execution_count": 2,
   "metadata": {},
   "outputs": [
    {
     "name": "stdout",
     "output_type": "stream",
     "text": [
      "(720, 1280, 3)\n"
     ]
    }
   ],
   "source": [
    "from PIL import Image\n",
    "import numpy as np\n",
    "# 1. Read image\n",
    "img = Image.open('WIN_20221107_14_50_31_Pro.jpg')\n",
    " \n",
    "# 2. Convert image to NumPy array\n",
    "arr = np.asarray(img)\n",
    "print(arr.shape)\n",
    "# (771, 771, 3)\n",
    "# 3. Convert 3D array to 2D list of lists\n",
    "lst = []\n",
    "for row in arr:\n",
    "    tmp = []\n",
    "    for col in row:\n",
    "        tmp.append(str(col))\n",
    "    lst.append(tmp)\n",
    "# 4. Save list of lists to CSV\n",
    "with open('my_file.csv', 'w') as f:\n",
    "    for row in lst:\n",
    "        f.write(','.join(row) + '\\n')"
   ]
  }
 ],
 "metadata": {
  "kernelspec": {
   "display_name": "Python 3.10.4 64-bit",
   "language": "python",
   "name": "python3"
  },
  "language_info": {
   "codemirror_mode": {
    "name": "ipython",
    "version": 3
   },
   "file_extension": ".py",
   "mimetype": "text/x-python",
   "name": "python",
   "nbconvert_exporter": "python",
   "pygments_lexer": "ipython3",
   "version": "3.10.4"
  },
  "orig_nbformat": 4,
  "vscode": {
   "interpreter": {
    "hash": "26de051ba29f2982a8de78e945f0abaf191376122a1563185a90213a26c5da77"
   }
  }
 },
 "nbformat": 4,
 "nbformat_minor": 2
}
